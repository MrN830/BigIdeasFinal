{
 "cells": [
  {
   "cell_type": "markdown",
   "metadata": {},
   "source": [
    "# Walkability\n",
    "For many, walkability is a highly important indicator of neighborhood quality. At its most general, walkability refers to the ability to navigate an urban area and access amenities by foot, as opposed to needing to use a car or other vehicle. It also can refer to the prevalence of \"non-vehicular\" spaces, such as plazas and courtyards, where no such vehicles are permitted. Walkability is widely considered to improve population health, strengthen communities, boost commercial activity, and reduce the environmental impact of urban areas. As such, walkability is often highly desirable, and many potential homeowners and renters strongly consider it when determining where to live.\n",
    "\n",
    "In 2023, the WPRDC released a dataset that approximates the walkability of a census tract based on its street to sidewalk ratio - that is, the ratio of total length of the streets in a neighborhood to the total length of sidewalks in a neighborhood. For neighborhoods that had sidewalks on a single side of the road, the ratio between road and street linear length would be 1, and if there are sidewalks on either side of the road, the ratio between road and street linear length would be 2. The width of roads and sidewalks is not considered, as an overall abstraction."
   ]
  },
  {
   "cell_type": "code",
   "execution_count": null,
   "metadata": {},
   "outputs": [],
   "source": []
  }
 ],
 "metadata": {
  "kernelspec": {
   "display_name": "Python 3",
   "language": "python",
   "name": "python3"
  },
  "language_info": {
   "codemirror_mode": {
    "name": "ipython",
    "version": 3
   },
   "file_extension": ".py",
   "mimetype": "text/x-python",
   "name": "python",
   "nbconvert_exporter": "python",
   "pygments_lexer": "ipython3",
   "version": "3.8.3"
  }
 },
 "nbformat": 4,
 "nbformat_minor": 4
}
