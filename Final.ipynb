{
 "cells": [
  {
   "cell_type": "markdown",
   "metadata": {},
   "source": [
    "# Final Analysis\n",
    "\n",
    "In order to make our final ranking metric, we simply decided to combine three qualities that we each found important in a neighborhood - walkability, [x], and [x].\n",
    "\n",
    "We felt that each dataset was equally important to the overall quality of a neighborhood. As such, we felt the final ranking should just be a simple combination of the three - an average. Our final metric is simply a ranking of the *average* ordinal rank of each neighborhood across the three datasets. For example, if a neighborhood was ranked 1st in education, 3rd in walkability, and 4th in (third metric), the its final value for our composite ranking is 2.67 - an average of the three sub-metric ranks. These composite rankings are then ordered by value, lowest to highest, to produce our final ranking, found below."
   ]
  },
  {
   "cell_type": "code",
   "execution_count": 17,
   "metadata": {},
   "outputs": [
    {
     "name": "stdout",
     "output_type": "stream",
     "text": [
      "{'Terrace Village': [1], 'North Shore': [2], 'Allegheny Center': [3], ' North Oakland': [4], 'Larimer': [5], 'Garfield': [6], 'Lawrenceville': [7], 'South Side Flats': [8], 'Bloomfield': [9], 'Shadyside': [10], 'Crawford-Roberts': [11], 'Squirrel Hill North': [12], 'East Liberty': [13], 'Lincoln': [14], 'Friendship': [15], 'Point Breeze': [16], 'Golden Triangle': [17], 'Homewood North': [18], 'Arlington': [19], 'South Oakland': [20], 'Knoxville': [21], 'Highland Park': [22], 'Central Oakland': [23], 'West Oakland': [24], 'Lawrencecville': [25], 'South Shore': [26], 'Stanton Heights': [27], 'Greenfield': [28], 'Upper Hill': [29], 'Squirrel Hill South': [30], 'Morningside': [31], 'Mount Washington': [32], 'Allentown': [33], 'Brighton Heights': [34], 'Beltzhoover': [35], 'Mount Oliver': [36], 'Perry South': [37], 'North Oakland': [38], 'Bedford Dwellings': [39], 'Brookline': [40], 'Swisshelm Park': [41], 'Marshall-Shadeland': [42], 'Carrick': [43], 'South Side Slopes': [44], 'Manchester': [45], 'Beechview': [46], 'Regent Square': [47], 'Upper Lawrenceville': [48], 'Fineview': [49], 'East Hills': [50], 'Sheraden': [51], 'Spring Garden': [52], 'East Carnegie': [53], 'Crafton Heights': [54], 'Hazelwood': [55], 'Troy Hill': [56], 'Esplen': [57], 'Elliott': [58], 'Chateau': [59], 'Chartiers City': [60], 'Duquesne Heights': [61], 'Strip District': [62], 'Spring Hill': [63], 'Overbrook': [64], 'Ridgemont': [65], 'Banksville': [66], 'Perry North': [67], 'New Homestead': [68]}\n"
     ]
    }
   ],
   "source": [
    "import pandas as pd\n",
    "\n",
    "# import walkability data\n",
    "wlkRank = pd.read_csv(\"Datasets/walkability_named_clean.csv\")\n",
    "\n",
    "# set up dictionary\n",
    "rankArrays = dict()\n",
    "\n",
    "for index, row in wlkRank.iterrows():\n",
    "    if row[0] not in rankArrays:\n",
    "        rankArrays[row[0]] = [index+1]\n",
    "# TODO - add two other rankings, append them to the value-pair arrays for each, clear neighborhood names\n",
    "# that have sub-3 data points\n",
    "print(rankArrays)\n",
    "\n"
   ]
  }
 ],
 "metadata": {
  "kernelspec": {
   "display_name": "Python 3",
   "language": "python",
   "name": "python3"
  },
  "language_info": {
   "codemirror_mode": {
    "name": "ipython",
    "version": 3
   },
   "file_extension": ".py",
   "mimetype": "text/x-python",
   "name": "python",
   "nbconvert_exporter": "python",
   "pygments_lexer": "ipython3",
   "version": "3.8.3"
  }
 },
 "nbformat": 4,
 "nbformat_minor": 4
}
