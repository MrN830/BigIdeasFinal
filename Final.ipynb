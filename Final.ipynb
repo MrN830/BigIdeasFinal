{
 "cells": [
  {
   "cell_type": "markdown",
   "metadata": {},
   "source": [
    "# Final Analysis\n",
    "\n",
    "In order to make our final ranking metric, we simply decided to combine three qualities that we each found important in a neighborhood - walkability, [x], and [x].\n",
    "\n",
    "We felt that each dataset was equally important to the overall quality of a neighborhood. As such, we felt the final ranking should just be a simple combination of the three - an average. Our final metric is simply a ranking of the *average* ordinal rank of each neighborhood across the three datasets. For example, if a neighborhood was ranked 1st in education, 3rd in walkability, and 4th in (third metric), the its final value for our composite ranking is 2.67 - an average of the three sub-metric ranks. These composite rankings are then ordered by value, lowest to highest, to produce our final ranking, found below. Since it's a ranking of the ranks, let's call it RankRank!"
   ]
  },
  {
   "cell_type": "code",
   "execution_count": 21,
   "metadata": {},
   "outputs": [
    {
     "name": "stdout",
     "output_type": "stream",
     "text": [
      "{'Terrace Village': [1, 23], 'North Shore': [2], 'Allegheny Center': [3, 59], ' North Oakland': [4], 'Larimer': [5, 33], 'Garfield': [6, 13], 'Lawrenceville': [7], 'South Side Flats': [8, 54], 'Bloomfield': [9, 32], 'Shadyside': [10, 41], 'Crawford-Roberts': [11, 38], 'Squirrel Hill North': [12, 25], 'East Liberty': [13, 15], 'Lincoln': [14], 'Friendship': [15, 72], 'Point Breeze': [16, 27], 'Golden Triangle': [17, 85], 'Homewood North': [18, 8], 'Arlington': [19, 42], 'South Oakland': [20, 62], 'Knoxville': [21, 6], 'Highland Park': [22, 22], 'Central Oakland': [23, 86], 'West Oakland': [24, 71], 'Lawrencecville': [25], 'South Shore': [26], 'Stanton Heights': [27, 26], 'Greenfield': [28, 16], 'Upper Hill': [29, 49], 'Squirrel Hill South': [30, 5], 'Morningside': [31, 45], 'Mount Washington': [32, 21], 'Allentown': [33, 29], 'Brighton Heights': [34, 7], 'Beltzhoover': [35, 34], 'Mount Oliver': [36, 63], 'Perry South': [37, 20], 'North Oakland': [38, 87], 'Bedford Dwellings': [39, 40], 'Brookline': [40, 2], 'Swisshelm Park': [41, 69], 'Marshall-Shadeland': [42, 19], 'Carrick': [43, 1], 'South Side Slopes': [44, 43], 'Manchester': [45, 56], 'Beechview': [46, 3], 'Regent Square': [47, 74], 'Upper Lawrenceville': [48, 53], 'Fineview': [49, 58], 'East Hills': [50, 10], 'Sheraden': [51, 4], 'Spring Garden': [52, 68], 'East Carnegie': [53, 80], 'Crafton Heights': [54, 11], 'Hazelwood': [55, 9], 'Troy Hill': [56, 47], 'Esplen': [57, 82], 'Elliott': [58, 37], 'Chateau': [59], 'Chartiers City': [60, 78], 'Duquesne Heights': [61, 61], 'Strip District': [62], 'Spring Hill': [63], 'Overbrook': [64, 30], 'Ridgemont': [65, 84], 'Banksville': [66, 44], 'Perry North': [67, 24], 'New Homestead': [68, 67]}\n"
     ]
    },
    {
     "data": {
      "text/html": [
       "<div>\n",
       "<style scoped>\n",
       "    .dataframe tbody tr th:only-of-type {\n",
       "        vertical-align: middle;\n",
       "    }\n",
       "\n",
       "    .dataframe tbody tr th {\n",
       "        vertical-align: top;\n",
       "    }\n",
       "\n",
       "    .dataframe thead th {\n",
       "        text-align: right;\n",
       "    }\n",
       "</style>\n",
       "<table border=\"1\" class=\"dataframe\">\n",
       "  <thead>\n",
       "    <tr style=\"text-align: right;\">\n",
       "      <th></th>\n",
       "      <th>Average Rank</th>\n",
       "    </tr>\n",
       "  </thead>\n",
       "  <tbody>\n",
       "    <tr>\n",
       "      <th>Garfield</th>\n",
       "      <td>9.5</td>\n",
       "    </tr>\n",
       "    <tr>\n",
       "      <th>Terrace Village</th>\n",
       "      <td>12.0</td>\n",
       "    </tr>\n",
       "    <tr>\n",
       "      <th>Homewood North</th>\n",
       "      <td>13.0</td>\n",
       "    </tr>\n",
       "    <tr>\n",
       "      <th>Knoxville</th>\n",
       "      <td>13.5</td>\n",
       "    </tr>\n",
       "    <tr>\n",
       "      <th>East Liberty</th>\n",
       "      <td>14.0</td>\n",
       "    </tr>\n",
       "  </tbody>\n",
       "</table>\n",
       "</div>"
      ],
      "text/plain": [
       "                 Average Rank\n",
       "Garfield                  9.5\n",
       "Terrace Village          12.0\n",
       "Homewood North           13.0\n",
       "Knoxville                13.5\n",
       "East Liberty             14.0"
      ]
     },
     "execution_count": 21,
     "metadata": {},
     "output_type": "execute_result"
    }
   ],
   "source": [
    "import pandas as pd\n",
    "import statistics\n",
    "\n",
    "# import walkability data\n",
    "wlkRank = pd.read_csv(\"Datasets/walkability_named_clean.csv\")\n",
    "enrRank = pd.read_csv(\"Datasets/enrollment_clean.csv\")\n",
    "\n",
    "# set up dictionary\n",
    "rankArrays = dict()\n",
    "\n",
    "# iterate through walk rank, adding to array of rankings\n",
    "for index, row in wlkRank.iterrows():\n",
    "    if row[0] not in rankArrays:\n",
    "        rankArrays[row[0]] = [index+1]      \n",
    "        \n",
    "# iterate through enr rank, adding to array of rankings only for neighborhoods that exist in walk rank        \n",
    "for index, row in enrRank.iterrows():\n",
    "    if row['neighborhood'] not in rankArrays:\n",
    "        continue\n",
    "    else:\n",
    "        rankArrays[row['neighborhood']].append(index+1)\n",
    "    \n",
    "print(rankArrays)\n",
    "\n",
    "# remove neighborhoods not found in all 3 datasets\n",
    "for key in list(rankArrays):\n",
    "    if len(rankArrays[key]) != 2:\n",
    "        rankArrays.pop(key)\n",
    "    \n",
    "rankRank = dict()\n",
    "\n",
    "# generate the average of the rankings in each list of rankings that \n",
    "for key in rankArrays:\n",
    "    if key not in rankRank:\n",
    "        rankRank[key] = statistics.mean(rankArrays[key])\n",
    "        \n",
    "# make a new dataframe from this composite ranking\n",
    "rankRankDF = pd.DataFrame.from_dict(rankRank,orient='index',columns=['Average Rank'])\n",
    "rankRankDF = rankRankDF.sort_values(by='Average Rank', ascending=True)\n",
    "# print top 5, organized from lowest to highest\n",
    "rankRankDF.head(5)\n"
   ]
  },
  {
   "cell_type": "markdown",
   "metadata": {},
   "source": [
    "From our final metric, RankRank, you can see that the best neighborhoods to live in are X, X, and X, because they have the lowest composite ranking from all three of our metrics."
   ]
  }
 ],
 "metadata": {
  "kernelspec": {
   "display_name": "Python 3",
   "language": "python",
   "name": "python3"
  },
  "language_info": {
   "codemirror_mode": {
    "name": "ipython",
    "version": 3
   },
   "file_extension": ".py",
   "mimetype": "text/x-python",
   "name": "python",
   "nbconvert_exporter": "python",
   "pygments_lexer": "ipython3",
   "version": "3.8.3"
  }
 },
 "nbformat": 4,
 "nbformat_minor": 4
}
