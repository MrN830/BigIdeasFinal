{
 "cells": [
  {
   "cell_type": "markdown",
   "metadata": {},
   "source": [
    "# Final Analysis\n",
    "\n",
    "(introduction)\n",
    "\n",
    "We deemed each of the three datasets we found equally valuable to the overall quality of a neighborhood. As such, we felt there was no need for complex statistical analysis. Our final metric is simply a ranking of the *average* ordinal rank of each neighborhood across the three datasets. For example, if a neighborhood was ranked 1st in education, 3rd in walkability, and 4th in (third metric), the its final value for our composite ranking is 2.67 - an average of the three sub-metric ranks. These composite rankings are then ordered by value, lowest to highest, to produce our final ranking, found below."
   ]
  }
 ],
 "metadata": {
  "kernelspec": {
   "display_name": "Python 3",
   "language": "python",
   "name": "python3"
  },
  "language_info": {
   "codemirror_mode": {
    "name": "ipython",
    "version": 3
   },
   "file_extension": ".py",
   "mimetype": "text/x-python",
   "name": "python",
   "nbconvert_exporter": "python",
   "pygments_lexer": "ipython3",
   "version": "3.8.3"
  }
 },
 "nbformat": 4,
 "nbformat_minor": 4
}
