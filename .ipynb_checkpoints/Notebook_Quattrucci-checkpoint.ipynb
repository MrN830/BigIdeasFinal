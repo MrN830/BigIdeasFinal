{
 "cells": [
  {
   "cell_type": "markdown",
   "metadata": {},
   "source": [
    "# Education\n",
    "\n",
    "For my metric, I looked at the number of students enrolled in k-12 schools throughout Pittsburgh. My metric for deciding the 'best' neighborhood was the neighborhood with the highest number of people enrolled in grade school as it is an important factor in a successful neighborhood. To me, high enrollment means diversity in age, sense of community in that neighborhood, and diversity in schools in Pittsburgh. A lot of the schools host people from all different neighborhoods.\n",
    "I Found that there is high variatability in the amount of students enrolled by neighborhood as we will see later."
   ]
  },
  {
   "cell_type": "markdown",
   "metadata": {},
   "source": [
    "# Raw Data\n",
    "\n",
    "Here is a data frame of the raw data I was presented. For Today, I'll only be focusing on the neighborhoods, and the number of enrolled students, not the schools. "
   ]
  },
  {
   "cell_type": "code",
   "execution_count": 2,
   "metadata": {},
   "outputs": [
    {
     "data": {
      "text/html": [
       "<div>\n",
       "<style scoped>\n",
       "    .dataframe tbody tr th:only-of-type {\n",
       "        vertical-align: middle;\n",
       "    }\n",
       "\n",
       "    .dataframe tbody tr th {\n",
       "        vertical-align: top;\n",
       "    }\n",
       "\n",
       "    .dataframe thead th {\n",
       "        text-align: right;\n",
       "    }\n",
       "</style>\n",
       "<table border=\"1\" class=\"dataframe\">\n",
       "  <thead>\n",
       "    <tr style=\"text-align: right;\">\n",
       "      <th></th>\n",
       "      <th>neighborhood</th>\n",
       "      <th>school</th>\n",
       "      <th>enrolled_students</th>\n",
       "    </tr>\n",
       "  </thead>\n",
       "  <tbody>\n",
       "    <tr>\n",
       "      <th>0</th>\n",
       "      <td>Allegheny Center</td>\n",
       "      <td>Other</td>\n",
       "      <td>50</td>\n",
       "    </tr>\n",
       "    <tr>\n",
       "      <th>1</th>\n",
       "      <td>Allegheny Center</td>\n",
       "      <td>PITTSBURGH KING PreK-8</td>\n",
       "      <td>34</td>\n",
       "    </tr>\n",
       "    <tr>\n",
       "      <th>2</th>\n",
       "      <td>Allentown</td>\n",
       "      <td>Other</td>\n",
       "      <td>96</td>\n",
       "    </tr>\n",
       "    <tr>\n",
       "      <th>3</th>\n",
       "      <td>Allentown</td>\n",
       "      <td>PITTSBURGH GRANDVIEW PreK-5</td>\n",
       "      <td>76</td>\n",
       "    </tr>\n",
       "    <tr>\n",
       "      <th>4</th>\n",
       "      <td>Allentown</td>\n",
       "      <td>PITTSBURGH SOUTH HILLS 6-8</td>\n",
       "      <td>50</td>\n",
       "    </tr>\n",
       "    <tr>\n",
       "      <th>5</th>\n",
       "      <td>Allentown</td>\n",
       "      <td>PITTSBURGH CARRICK HIGH SCHOOL</td>\n",
       "      <td>35</td>\n",
       "    </tr>\n",
       "    <tr>\n",
       "      <th>6</th>\n",
       "      <td>Allentown</td>\n",
       "      <td>PITTSBURGH CARMALT PreK-8</td>\n",
       "      <td>21</td>\n",
       "    </tr>\n",
       "    <tr>\n",
       "      <th>7</th>\n",
       "      <td>Allentown</td>\n",
       "      <td>PITTSBURGH OBAMA IB 6-12</td>\n",
       "      <td>11</td>\n",
       "    </tr>\n",
       "    <tr>\n",
       "      <th>8</th>\n",
       "      <td>Arlington</td>\n",
       "      <td>PITTSBURGH ARLINGTON PreK-8</td>\n",
       "      <td>61</td>\n",
       "    </tr>\n",
       "    <tr>\n",
       "      <th>9</th>\n",
       "      <td>Arlington</td>\n",
       "      <td>Other</td>\n",
       "      <td>56</td>\n",
       "    </tr>\n",
       "    <tr>\n",
       "      <th>10</th>\n",
       "      <td>Arlington</td>\n",
       "      <td>PITTSBURGH CARRICK HIGH SCHOOL</td>\n",
       "      <td>36</td>\n",
       "    </tr>\n",
       "    <tr>\n",
       "      <th>11</th>\n",
       "      <td>Arlington</td>\n",
       "      <td>PITTSBURGH CARMALT PreK-8</td>\n",
       "      <td>18</td>\n",
       "    </tr>\n",
       "    <tr>\n",
       "      <th>12</th>\n",
       "      <td>Arlington</td>\n",
       "      <td>PITTSBURGH PHILLIPS K-5</td>\n",
       "      <td>15</td>\n",
       "    </tr>\n",
       "    <tr>\n",
       "      <th>13</th>\n",
       "      <td>Arlington Heights</td>\n",
       "      <td>PITTSBURGH ARLINGTON PreK-8</td>\n",
       "      <td>16</td>\n",
       "    </tr>\n",
       "    <tr>\n",
       "      <th>14</th>\n",
       "      <td>Arlington Heights</td>\n",
       "      <td>Other</td>\n",
       "      <td>11</td>\n",
       "    </tr>\n",
       "    <tr>\n",
       "      <th>15</th>\n",
       "      <td>Banksville</td>\n",
       "      <td>PITTSBURGH BANKSVILLE K-5</td>\n",
       "      <td>68</td>\n",
       "    </tr>\n",
       "    <tr>\n",
       "      <th>16</th>\n",
       "      <td>Banksville</td>\n",
       "      <td>Other</td>\n",
       "      <td>40</td>\n",
       "    </tr>\n",
       "    <tr>\n",
       "      <th>17</th>\n",
       "      <td>Banksville</td>\n",
       "      <td>PITTSBURGH BRASHEAR HIGH SCHOOL</td>\n",
       "      <td>29</td>\n",
       "    </tr>\n",
       "    <tr>\n",
       "      <th>18</th>\n",
       "      <td>Banksville</td>\n",
       "      <td>PITTSBURGH CARMALT PreK-8</td>\n",
       "      <td>16</td>\n",
       "    </tr>\n",
       "    <tr>\n",
       "      <th>19</th>\n",
       "      <td>Banksville</td>\n",
       "      <td>PITTSBURGH SOUTH HILLS 6-8</td>\n",
       "      <td>16</td>\n",
       "    </tr>\n",
       "  </tbody>\n",
       "</table>\n",
       "</div>"
      ],
      "text/plain": [
       "         neighborhood                           school  enrolled_students\n",
       "0    Allegheny Center                            Other                 50\n",
       "1    Allegheny Center           PITTSBURGH KING PreK-8                 34\n",
       "2           Allentown                            Other                 96\n",
       "3           Allentown      PITTSBURGH GRANDVIEW PreK-5                 76\n",
       "4           Allentown       PITTSBURGH SOUTH HILLS 6-8                 50\n",
       "5           Allentown   PITTSBURGH CARRICK HIGH SCHOOL                 35\n",
       "6           Allentown        PITTSBURGH CARMALT PreK-8                 21\n",
       "7           Allentown         PITTSBURGH OBAMA IB 6-12                 11\n",
       "8           Arlington      PITTSBURGH ARLINGTON PreK-8                 61\n",
       "9           Arlington                            Other                 56\n",
       "10          Arlington   PITTSBURGH CARRICK HIGH SCHOOL                 36\n",
       "11          Arlington        PITTSBURGH CARMALT PreK-8                 18\n",
       "12          Arlington          PITTSBURGH PHILLIPS K-5                 15\n",
       "13  Arlington Heights      PITTSBURGH ARLINGTON PreK-8                 16\n",
       "14  Arlington Heights                            Other                 11\n",
       "15         Banksville        PITTSBURGH BANKSVILLE K-5                 68\n",
       "16         Banksville                            Other                 40\n",
       "17         Banksville  PITTSBURGH BRASHEAR HIGH SCHOOL                 29\n",
       "18         Banksville        PITTSBURGH CARMALT PreK-8                 16\n",
       "19         Banksville       PITTSBURGH SOUTH HILLS 6-8                 16"
      ]
     },
     "execution_count": 2,
     "metadata": {},
     "output_type": "execute_result"
    }
   ],
   "source": [
    "import pandas as pd\n",
    "import numpy as np\n",
    "import geopandas as gpd\n",
    "\n",
    "education = pd.read_csv(\"schooldata.csv\")\n",
    "education.head(20)\n"
   ]
  },
  {
   "cell_type": "markdown",
   "metadata": {},
   "source": [
    "# Number of Students Enrolled in School From Each Neighborhood\n",
    "\n",
    "I consolidated my data to show the neighborhoods and their enrolled students, sorted in ascending order with the neighborhoods with highest enrollment at the top, and lowest at the bottom. As you can see, Carrick and Brookline have marginally higher enrollment than most of the other neighborhoods. Central Oakland and North Oakland have the lowest enrollment in k-12 schools, which makes sense considering they mostly contain Pitt's campus and college-level student housing."
   ]
  },
  {
   "cell_type": "code",
   "execution_count": 3,
   "metadata": {},
   "outputs": [
    {
     "data": {
      "text/html": [
       "<div>\n",
       "<style scoped>\n",
       "    .dataframe tbody tr th:only-of-type {\n",
       "        vertical-align: middle;\n",
       "    }\n",
       "\n",
       "    .dataframe tbody tr th {\n",
       "        vertical-align: top;\n",
       "    }\n",
       "\n",
       "    .dataframe thead th {\n",
       "        text-align: right;\n",
       "    }\n",
       "</style>\n",
       "<table border=\"1\" class=\"dataframe\">\n",
       "  <thead>\n",
       "    <tr style=\"text-align: right;\">\n",
       "      <th></th>\n",
       "      <th>enrolled_students</th>\n",
       "    </tr>\n",
       "    <tr>\n",
       "      <th>neighborhood</th>\n",
       "      <th></th>\n",
       "    </tr>\n",
       "  </thead>\n",
       "  <tbody>\n",
       "    <tr>\n",
       "      <th>Carrick</th>\n",
       "      <td>1276</td>\n",
       "    </tr>\n",
       "    <tr>\n",
       "      <th>Brookline</th>\n",
       "      <td>1169</td>\n",
       "    </tr>\n",
       "    <tr>\n",
       "      <th>Beechview</th>\n",
       "      <td>794</td>\n",
       "    </tr>\n",
       "    <tr>\n",
       "      <th>Sheraden</th>\n",
       "      <td>694</td>\n",
       "    </tr>\n",
       "    <tr>\n",
       "      <th>Squirrel Hill South</th>\n",
       "      <td>679</td>\n",
       "    </tr>\n",
       "    <tr>\n",
       "      <th>...</th>\n",
       "      <td>...</td>\n",
       "    </tr>\n",
       "    <tr>\n",
       "      <th>Saint Clair</th>\n",
       "      <td>25</td>\n",
       "    </tr>\n",
       "    <tr>\n",
       "      <th>Ridgemont</th>\n",
       "      <td>20</td>\n",
       "    </tr>\n",
       "    <tr>\n",
       "      <th>Golden Triangle</th>\n",
       "      <td>18</td>\n",
       "    </tr>\n",
       "    <tr>\n",
       "      <th>Central Oakland</th>\n",
       "      <td>16</td>\n",
       "    </tr>\n",
       "    <tr>\n",
       "      <th>North Oakland</th>\n",
       "      <td>11</td>\n",
       "    </tr>\n",
       "  </tbody>\n",
       "</table>\n",
       "<p>87 rows × 1 columns</p>\n",
       "</div>"
      ],
      "text/plain": [
       "                     enrolled_students\n",
       "neighborhood                          \n",
       "Carrick                           1276\n",
       "Brookline                         1169\n",
       "Beechview                          794\n",
       "Sheraden                           694\n",
       "Squirrel Hill South                679\n",
       "...                                ...\n",
       "Saint Clair                         25\n",
       "Ridgemont                           20\n",
       "Golden Triangle                     18\n",
       "Central Oakland                     16\n",
       "North Oakland                       11\n",
       "\n",
       "[87 rows x 1 columns]"
      ]
     },
     "execution_count": 3,
     "metadata": {},
     "output_type": "execute_result"
    }
   ],
   "source": [
    "\n",
    "neighborhoods = education.groupby('neighborhood')['enrolled_students'].sum()\n",
    "neighborhoods = pd.DataFrame(neighborhoods)\n",
    "neighborhoodsSort = neighborhoods.sort_values(by = [\"enrolled_students\"], ascending = False)\n",
    "neighborhoodsSort = pd.DataFrame(neighborhoodsSort)\n",
    "neighborhoodsSort\n",
    "\n"
   ]
  },
  {
   "cell_type": "markdown",
   "metadata": {},
   "source": [
    "# Total Number of Students Enrolled in Pittsburgh Public Schools"
   ]
  },
  {
   "cell_type": "code",
   "execution_count": 4,
   "metadata": {},
   "outputs": [
    {
     "data": {
      "text/html": [
       "<div>\n",
       "<style scoped>\n",
       "    .dataframe tbody tr th:only-of-type {\n",
       "        vertical-align: middle;\n",
       "    }\n",
       "\n",
       "    .dataframe tbody tr th {\n",
       "        vertical-align: top;\n",
       "    }\n",
       "\n",
       "    .dataframe thead th {\n",
       "        text-align: right;\n",
       "    }\n",
       "</style>\n",
       "<table border=\"1\" class=\"dataframe\">\n",
       "  <thead>\n",
       "    <tr style=\"text-align: right;\">\n",
       "      <th></th>\n",
       "      <th>0</th>\n",
       "    </tr>\n",
       "  </thead>\n",
       "  <tbody>\n",
       "    <tr>\n",
       "      <th>enrolled_students</th>\n",
       "      <td>22352</td>\n",
       "    </tr>\n",
       "  </tbody>\n",
       "</table>\n",
       "</div>"
      ],
      "text/plain": [
       "                       0\n",
       "enrolled_students  22352"
      ]
     },
     "execution_count": 4,
     "metadata": {},
     "output_type": "execute_result"
    }
   ],
   "source": [
    "totalEnrollment = neighborhoods.sum()\n",
    "totalEnrollment = pd.DataFrame(totalEnrollment)\n",
    "totalEnrollment\n"
   ]
  },
  {
   "cell_type": "markdown",
   "metadata": {},
   "source": [
    "# Neighborhoods with the Highest Enrollment\n",
    "\n",
    "I organized the top 10 neighborhoods with highest enrollment into a bar graph to present a visual on the make up of Pittsburgh Public School students. The neighborhood with the 10th highest enrollment, East Hills, has less than half of the top neighborhood, Carrick."
   ]
  },
  {
   "cell_type": "code",
   "execution_count": 8,
   "metadata": {},
   "outputs": [
    {
     "data": {
      "text/plain": [
       "Text(0, 0.5, 'Neighborhood')"
      ]
     },
     "execution_count": 8,
     "metadata": {},
     "output_type": "execute_result"
    },
    {
     "data": {
      "image/png": "[encoded data removed]",
      "text/plain": [
       "<Figure size 576x728.64 with 1 Axes>"
      ]
     },
     "metadata": {
      "needs_background": "light"
     },
     "output_type": "display_data"
    }
   ],
   "source": [
    "neighborhoodsSort = neighborhoods.sort_values(by = [\"enrolled_students\"], ascending = True)\n",
    "#graph = neighborhoodsSort.plot.barh(x = 'Pittsburgh Neighborhood', y = 'Number of Enrolled Students')\n",
    "\n",
    "graph = neighborhoodsSort[77:].plot.barh(figsize=(8,education.shape[0] * 0.02), legend=None)\n",
    "graph.set_xlabel(\"Number of Students Enrolled\")\n",
    "graph.set_ylabel(\"Neighborhood\")\n",
    "                          "
   ]
  },
  {
   "cell_type": "markdown",
   "metadata": {},
   "source": [
    "# Percent of Enrolled Students from Each Neighborhood\n",
    "\n",
    "Below is a data frame of the percentage of the total enrolled students from each neighborhood. Carrick makes up almost 6% of the total number of students in Pittsburgh with North Oakland making up less than .05%"
   ]
  },
  {
   "cell_type": "code",
   "execution_count": 13,
   "metadata": {},
   "outputs": [
    {
     "data": {
      "text/html": [
       "<div>\n",
       "<style scoped>\n",
       "    .dataframe tbody tr th:only-of-type {\n",
       "        vertical-align: middle;\n",
       "    }\n",
       "\n",
       "    .dataframe tbody tr th {\n",
       "        vertical-align: top;\n",
       "    }\n",
       "\n",
       "    .dataframe thead th {\n",
       "        text-align: right;\n",
       "    }\n",
       "</style>\n",
       "<table border=\"1\" class=\"dataframe\">\n",
       "  <thead>\n",
       "    <tr style=\"text-align: right;\">\n",
       "      <th></th>\n",
       "      <th>enrolled_students</th>\n",
       "    </tr>\n",
       "    <tr>\n",
       "      <th>neighborhood</th>\n",
       "      <th></th>\n",
       "    </tr>\n",
       "  </thead>\n",
       "  <tbody>\n",
       "    <tr>\n",
       "      <th>Carrick</th>\n",
       "      <td>5.708661</td>\n",
       "    </tr>\n",
       "    <tr>\n",
       "      <th>Brookline</th>\n",
       "      <td>5.229957</td>\n",
       "    </tr>\n",
       "    <tr>\n",
       "      <th>Beechview</th>\n",
       "      <td>3.552255</td>\n",
       "    </tr>\n",
       "    <tr>\n",
       "      <th>Sheraden</th>\n",
       "      <td>3.104868</td>\n",
       "    </tr>\n",
       "    <tr>\n",
       "      <th>Squirrel Hill South</th>\n",
       "      <td>3.037759</td>\n",
       "    </tr>\n",
       "    <tr>\n",
       "      <th>...</th>\n",
       "      <td>...</td>\n",
       "    </tr>\n",
       "    <tr>\n",
       "      <th>Saint Clair</th>\n",
       "      <td>0.111847</td>\n",
       "    </tr>\n",
       "    <tr>\n",
       "      <th>Ridgemont</th>\n",
       "      <td>0.089477</td>\n",
       "    </tr>\n",
       "    <tr>\n",
       "      <th>Golden Triangle</th>\n",
       "      <td>0.080530</td>\n",
       "    </tr>\n",
       "    <tr>\n",
       "      <th>Central Oakland</th>\n",
       "      <td>0.071582</td>\n",
       "    </tr>\n",
       "    <tr>\n",
       "      <th>North Oakland</th>\n",
       "      <td>0.049213</td>\n",
       "    </tr>\n",
       "  </tbody>\n",
       "</table>\n",
       "<p>87 rows × 1 columns</p>\n",
       "</div>"
      ],
      "text/plain": [
       "                     enrolled_students\n",
       "neighborhood                          \n",
       "Carrick                       5.708661\n",
       "Brookline                     5.229957\n",
       "Beechview                     3.552255\n",
       "Sheraden                      3.104868\n",
       "Squirrel Hill South           3.037759\n",
       "...                                ...\n",
       "Saint Clair                   0.111847\n",
       "Ridgemont                     0.089477\n",
       "Golden Triangle               0.080530\n",
       "Central Oakland               0.071582\n",
       "North Oakland                 0.049213\n",
       "\n",
       "[87 rows x 1 columns]"
      ]
     },
     "execution_count": 13,
     "metadata": {},
     "output_type": "execute_result"
    }
   ],
   "source": [
    "def percentEnrolled(x):\n",
    "    p = (x/22352)*100\n",
    "    return p\n",
    "\n",
    "percent = neighborhoods['enrolled_students'].apply(percentEnrolled)\n",
    "percent = pd.DataFrame(percent)\n",
    "percentSort = percent.sort_values(by = ['enrolled_students'], ascending = False)\n",
    "\n",
    "pData = pd.DataFrame(percentSort)\n",
    "pData.to_csv('enrollment_clean.csv') \n",
    "pData"
   ]
  },
  {
   "cell_type": "markdown",
   "metadata": {},
   "source": [
    "# Bar Graph of the 5 Neighborhoods with the Highest Percentage of Enrolled Students\n",
    "\n",
    "Here I've presented a pie chart comparing the top 5 neighborhoods in terms of number of enrolled students."
   ]
  },
  {
   "cell_type": "code",
   "execution_count": 7,
   "metadata": {},
   "outputs": [
    {
     "data": {
      "image/png": "[encoded data removed]",
      "text/plain": [
       "<Figure size 576x728.64 with 1 Axes>"
      ]
     },
     "metadata": {},
     "output_type": "display_data"
    }
   ],
   "source": [
    "percentSort = percent.sort_values(by = ['enrolled_students'], ascending = True)\n",
    "\n",
    "                          \n",
    "graph = percentSort[82:].plot.pie(subplots = True, figsize=(8,education.shape[0] * 0.02), legend=None)\n",
    "\n",
    "                          "
   ]
  },
  {
   "cell_type": "markdown",
   "metadata": {},
   "source": [
    "# What's the Best Neighborhood?\n",
    "\n",
    "Based on my data set, and my metric, I would conclude that Carrick is the best neighborhood in Pittsburgh. It has a high population of students enrolled in school, especially compared to many of the other neighbhorhoods.\n"
   ]
  }
 ],
 "metadata": {
  "kernelspec": {
   "display_name": "Python 3",
   "language": "python",
   "name": "python3"
  },
  "language_info": {
   "codemirror_mode": {
    "name": "ipython",
    "version": 3
   },
   "file_extension": ".py",
   "mimetype": "text/x-python",
   "name": "python",
   "nbconvert_exporter": "python",
   "pygments_lexer": "ipython3",
   "version": "3.8.3"
  }
 },
 "nbformat": 4,
 "nbformat_minor": 4
}
